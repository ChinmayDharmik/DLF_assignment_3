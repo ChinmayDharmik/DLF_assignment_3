{
 "cells": [
  {
   "cell_type": "code",
   "execution_count": 1,
   "metadata": {},
   "outputs": [],
   "source": [
    "#### DATA Collection\n",
    "\n",
    "import pandas_datareader as pdr\n"
   ]
  },
  {
   "cell_type": "code",
   "execution_count": 2,
   "metadata": {},
   "outputs": [],
   "source": [
    "df = pdr.DataReader('AAPL', 'yahoo', start='2012-11-09', end='2022-11-09')"
   ]
  },
  {
   "cell_type": "code",
   "execution_count": 3,
   "metadata": {},
   "outputs": [],
   "source": [
    "df.to_csv(\"AAPL.csv\")"
   ]
  },
  {
   "cell_type": "code",
   "execution_count": 56,
   "metadata": {},
   "outputs": [
    {
     "data": {
      "text/html": [
       "<div>\n",
       "<style scoped>\n",
       "    .dataframe tbody tr th:only-of-type {\n",
       "        vertical-align: middle;\n",
       "    }\n",
       "\n",
       "    .dataframe tbody tr th {\n",
       "        vertical-align: top;\n",
       "    }\n",
       "\n",
       "    .dataframe thead th {\n",
       "        text-align: right;\n",
       "    }\n",
       "</style>\n",
       "<table border=\"1\" class=\"dataframe\">\n",
       "  <thead>\n",
       "    <tr style=\"text-align: right;\">\n",
       "      <th></th>\n",
       "      <th>High</th>\n",
       "      <th>Low</th>\n",
       "      <th>Open</th>\n",
       "      <th>Close</th>\n",
       "      <th>Volume</th>\n",
       "      <th>Adj Close</th>\n",
       "    </tr>\n",
       "    <tr>\n",
       "      <th>Date</th>\n",
       "      <th></th>\n",
       "      <th></th>\n",
       "      <th></th>\n",
       "      <th></th>\n",
       "      <th></th>\n",
       "      <th></th>\n",
       "    </tr>\n",
       "  </thead>\n",
       "  <tbody>\n",
       "    <tr>\n",
       "      <th>2012-11-08</th>\n",
       "      <td>20.079643</td>\n",
       "      <td>19.117500</td>\n",
       "      <td>20.022499</td>\n",
       "      <td>19.205357</td>\n",
       "      <td>1.056146e+09</td>\n",
       "      <td>16.516375</td>\n",
       "    </tr>\n",
       "    <tr>\n",
       "      <th>2012-11-09</th>\n",
       "      <td>19.817142</td>\n",
       "      <td>19.061428</td>\n",
       "      <td>19.300714</td>\n",
       "      <td>19.537857</td>\n",
       "      <td>9.299136e+08</td>\n",
       "      <td>16.802319</td>\n",
       "    </tr>\n",
       "    <tr>\n",
       "      <th>2012-11-12</th>\n",
       "      <td>19.803572</td>\n",
       "      <td>19.237499</td>\n",
       "      <td>19.791071</td>\n",
       "      <td>19.386786</td>\n",
       "      <td>5.158020e+08</td>\n",
       "      <td>16.672400</td>\n",
       "    </tr>\n",
       "    <tr>\n",
       "      <th>2012-11-13</th>\n",
       "      <td>19.660000</td>\n",
       "      <td>19.155714</td>\n",
       "      <td>19.246786</td>\n",
       "      <td>19.389286</td>\n",
       "      <td>5.329492e+08</td>\n",
       "      <td>16.674553</td>\n",
       "    </tr>\n",
       "    <tr>\n",
       "      <th>2012-11-14</th>\n",
       "      <td>19.551786</td>\n",
       "      <td>19.149286</td>\n",
       "      <td>19.482143</td>\n",
       "      <td>19.174286</td>\n",
       "      <td>4.771704e+08</td>\n",
       "      <td>16.489647</td>\n",
       "    </tr>\n",
       "    <tr>\n",
       "      <th>2012-11-15</th>\n",
       "      <td>19.267857</td>\n",
       "      <td>18.665001</td>\n",
       "      <td>19.197500</td>\n",
       "      <td>18.772142</td>\n",
       "      <td>7.899108e+08</td>\n",
       "      <td>16.143808</td>\n",
       "    </tr>\n",
       "    <tr>\n",
       "      <th>2012-11-16</th>\n",
       "      <td>18.928572</td>\n",
       "      <td>18.062500</td>\n",
       "      <td>18.757143</td>\n",
       "      <td>18.845715</td>\n",
       "      <td>1.266894e+09</td>\n",
       "      <td>16.207085</td>\n",
       "    </tr>\n",
       "    <tr>\n",
       "      <th>2012-11-19</th>\n",
       "      <td>20.267857</td>\n",
       "      <td>19.281429</td>\n",
       "      <td>19.311071</td>\n",
       "      <td>20.204643</td>\n",
       "      <td>8.233176e+08</td>\n",
       "      <td>17.375748</td>\n",
       "    </tr>\n",
       "    <tr>\n",
       "      <th>2012-11-20</th>\n",
       "      <td>20.426786</td>\n",
       "      <td>19.806429</td>\n",
       "      <td>20.425358</td>\n",
       "      <td>20.032499</td>\n",
       "      <td>6.427540e+08</td>\n",
       "      <td>17.227707</td>\n",
       "    </tr>\n",
       "    <tr>\n",
       "      <th>2012-11-21</th>\n",
       "      <td>20.263214</td>\n",
       "      <td>19.878571</td>\n",
       "      <td>20.151787</td>\n",
       "      <td>20.060715</td>\n",
       "      <td>3.730020e+08</td>\n",
       "      <td>17.251970</td>\n",
       "    </tr>\n",
       "  </tbody>\n",
       "</table>\n",
       "</div>"
      ],
      "text/plain": [
       "                 High        Low       Open      Close        Volume  \\\n",
       "Date                                                                   \n",
       "2012-11-08  20.079643  19.117500  20.022499  19.205357  1.056146e+09   \n",
       "2012-11-09  19.817142  19.061428  19.300714  19.537857  9.299136e+08   \n",
       "2012-11-12  19.803572  19.237499  19.791071  19.386786  5.158020e+08   \n",
       "2012-11-13  19.660000  19.155714  19.246786  19.389286  5.329492e+08   \n",
       "2012-11-14  19.551786  19.149286  19.482143  19.174286  4.771704e+08   \n",
       "2012-11-15  19.267857  18.665001  19.197500  18.772142  7.899108e+08   \n",
       "2012-11-16  18.928572  18.062500  18.757143  18.845715  1.266894e+09   \n",
       "2012-11-19  20.267857  19.281429  19.311071  20.204643  8.233176e+08   \n",
       "2012-11-20  20.426786  19.806429  20.425358  20.032499  6.427540e+08   \n",
       "2012-11-21  20.263214  19.878571  20.151787  20.060715  3.730020e+08   \n",
       "\n",
       "            Adj Close  \n",
       "Date                   \n",
       "2012-11-08  16.516375  \n",
       "2012-11-09  16.802319  \n",
       "2012-11-12  16.672400  \n",
       "2012-11-13  16.674553  \n",
       "2012-11-14  16.489647  \n",
       "2012-11-15  16.143808  \n",
       "2012-11-16  16.207085  \n",
       "2012-11-19  17.375748  \n",
       "2012-11-20  17.227707  \n",
       "2012-11-21  17.251970  "
      ]
     },
     "execution_count": 56,
     "metadata": {},
     "output_type": "execute_result"
    }
   ],
   "source": [
    "df.head(10)"
   ]
  },
  {
   "cell_type": "code",
   "execution_count": 5,
   "metadata": {},
   "outputs": [
    {
     "data": {
      "text/html": [
       "<div>\n",
       "<style scoped>\n",
       "    .dataframe tbody tr th:only-of-type {\n",
       "        vertical-align: middle;\n",
       "    }\n",
       "\n",
       "    .dataframe tbody tr th {\n",
       "        vertical-align: top;\n",
       "    }\n",
       "\n",
       "    .dataframe thead th {\n",
       "        text-align: right;\n",
       "    }\n",
       "</style>\n",
       "<table border=\"1\" class=\"dataframe\">\n",
       "  <thead>\n",
       "    <tr style=\"text-align: right;\">\n",
       "      <th></th>\n",
       "      <th>High</th>\n",
       "      <th>Low</th>\n",
       "      <th>Open</th>\n",
       "      <th>Close</th>\n",
       "      <th>Volume</th>\n",
       "      <th>Adj Close</th>\n",
       "    </tr>\n",
       "  </thead>\n",
       "  <tbody>\n",
       "    <tr>\n",
       "      <th>count</th>\n",
       "      <td>2519.000000</td>\n",
       "      <td>2519.000000</td>\n",
       "      <td>2519.000000</td>\n",
       "      <td>2519.000000</td>\n",
       "      <td>2.519000e+03</td>\n",
       "      <td>2519.000000</td>\n",
       "    </tr>\n",
       "    <tr>\n",
       "      <th>mean</th>\n",
       "      <td>61.343455</td>\n",
       "      <td>60.000620</td>\n",
       "      <td>60.661409</td>\n",
       "      <td>60.695862</td>\n",
       "      <td>1.790924e+08</td>\n",
       "      <td>58.878104</td>\n",
       "    </tr>\n",
       "    <tr>\n",
       "      <th>std</th>\n",
       "      <td>48.619220</td>\n",
       "      <td>47.381367</td>\n",
       "      <td>47.991830</td>\n",
       "      <td>48.023067</td>\n",
       "      <td>1.388024e+08</td>\n",
       "      <td>48.538964</td>\n",
       "    </tr>\n",
       "    <tr>\n",
       "      <th>min</th>\n",
       "      <td>14.271429</td>\n",
       "      <td>13.753571</td>\n",
       "      <td>13.856071</td>\n",
       "      <td>13.947500</td>\n",
       "      <td>4.100000e+07</td>\n",
       "      <td>12.064590</td>\n",
       "    </tr>\n",
       "    <tr>\n",
       "      <th>25%</th>\n",
       "      <td>26.745000</td>\n",
       "      <td>26.275000</td>\n",
       "      <td>26.506250</td>\n",
       "      <td>26.486250</td>\n",
       "      <td>9.368730e+07</td>\n",
       "      <td>24.257392</td>\n",
       "    </tr>\n",
       "    <tr>\n",
       "      <th>50%</th>\n",
       "      <td>40.185001</td>\n",
       "      <td>39.522499</td>\n",
       "      <td>39.877499</td>\n",
       "      <td>39.939999</td>\n",
       "      <td>1.329048e+08</td>\n",
       "      <td>37.871319</td>\n",
       "    </tr>\n",
       "    <tr>\n",
       "      <th>75%</th>\n",
       "      <td>80.841248</td>\n",
       "      <td>79.314999</td>\n",
       "      <td>80.031250</td>\n",
       "      <td>79.855000</td>\n",
       "      <td>2.119068e+08</td>\n",
       "      <td>78.533607</td>\n",
       "    </tr>\n",
       "    <tr>\n",
       "      <th>max</th>\n",
       "      <td>182.940002</td>\n",
       "      <td>179.119995</td>\n",
       "      <td>182.630005</td>\n",
       "      <td>182.009995</td>\n",
       "      <td>1.460852e+09</td>\n",
       "      <td>180.959747</td>\n",
       "    </tr>\n",
       "  </tbody>\n",
       "</table>\n",
       "</div>"
      ],
      "text/plain": [
       "              High          Low         Open        Close        Volume  \\\n",
       "count  2519.000000  2519.000000  2519.000000  2519.000000  2.519000e+03   \n",
       "mean     61.343455    60.000620    60.661409    60.695862  1.790924e+08   \n",
       "std      48.619220    47.381367    47.991830    48.023067  1.388024e+08   \n",
       "min      14.271429    13.753571    13.856071    13.947500  4.100000e+07   \n",
       "25%      26.745000    26.275000    26.506250    26.486250  9.368730e+07   \n",
       "50%      40.185001    39.522499    39.877499    39.939999  1.329048e+08   \n",
       "75%      80.841248    79.314999    80.031250    79.855000  2.119068e+08   \n",
       "max     182.940002   179.119995   182.630005   182.009995  1.460852e+09   \n",
       "\n",
       "         Adj Close  \n",
       "count  2519.000000  \n",
       "mean     58.878104  \n",
       "std      48.538964  \n",
       "min      12.064590  \n",
       "25%      24.257392  \n",
       "50%      37.871319  \n",
       "75%      78.533607  \n",
       "max     180.959747  "
      ]
     },
     "execution_count": 5,
     "metadata": {},
     "output_type": "execute_result"
    }
   ],
   "source": [
    "df.describe()"
   ]
  },
  {
   "cell_type": "code",
   "execution_count": 6,
   "metadata": {},
   "outputs": [
    {
     "data": {
      "text/plain": [
       "(2519,)"
      ]
     },
     "execution_count": 6,
     "metadata": {},
     "output_type": "execute_result"
    }
   ],
   "source": [
    "df1=df.reset_index()['Close']\n",
    "df1.shape"
   ]
  },
  {
   "cell_type": "code",
   "execution_count": 7,
   "metadata": {},
   "outputs": [
    {
     "data": {
      "text/plain": [
       "[<matplotlib.lines.Line2D at 0x7fd7dfa7c710>]"
      ]
     },
     "execution_count": 7,
     "metadata": {},
     "output_type": "execute_result"
    },
    {
     "data": {
      "image/png": "[encoded data removed]",
      "text/plain": [
       "<Figure size 640x480 with 1 Axes>"
      ]
     },
     "metadata": {},
     "output_type": "display_data"
    }
   ],
   "source": [
    "import matplotlib.pyplot as plt\n",
    "plt.plot(df1)"
   ]
  },
  {
   "cell_type": "code",
   "execution_count": 8,
   "metadata": {},
   "outputs": [],
   "source": [
    "import numpy as np"
   ]
  },
  {
   "cell_type": "code",
   "execution_count": 9,
   "metadata": {},
   "outputs": [],
   "source": [
    "from sklearn.preprocessing import MinMaxScaler\n",
    "scaler = MinMaxScaler(feature_range=(0,1))\n",
    "df1=scaler.fit_transform(np.array(df1).reshape(-1,1))"
   ]
  },
  {
   "cell_type": "code",
   "execution_count": 10,
   "metadata": {},
   "outputs": [
    {
     "data": {
      "text/plain": [
       "(2519, 1)"
      ]
     },
     "execution_count": 10,
     "metadata": {},
     "output_type": "execute_result"
    }
   ],
   "source": [
    "df1.shape"
   ]
  },
  {
   "cell_type": "code",
   "execution_count": 11,
   "metadata": {},
   "outputs": [],
   "source": [
    "#spliting data into training and testing\n",
    "training_size=int(len(df1)*0.70)\n",
    "test_size = len(df1) - training_size\n",
    "train_data,test_data = df1[:training_size,:],df1[training_size:,:]"
   ]
  },
  {
   "cell_type": "code",
   "execution_count": 12,
   "metadata": {},
   "outputs": [],
   "source": [
    "def create_dataset(dataset, time_step=1):\n",
    "    dataX,dataY = [], []\n",
    "    for i in range(len(dataset)-time_step-1):\n",
    "        a = dataset[i:(i+time_step),0]\n",
    "        dataX.append(a)\n",
    "        dataY.append(dataset[i+time_step,0])\n",
    "    return np.array(dataX), np.array(dataY)"
   ]
  },
  {
   "cell_type": "code",
   "execution_count": 13,
   "metadata": {},
   "outputs": [],
   "source": [
    "time_step =100\n",
    "X_train, Y_train = create_dataset(train_data,time_step)\n",
    "X_test, Y_test = create_dataset(test_data,time_step)"
   ]
  },
  {
   "cell_type": "code",
   "execution_count": 77,
   "metadata": {},
   "outputs": [
    {
     "data": {
      "text/plain": [
       "array([0.00694257, 0.00758221, 0.00774584, ..., 0.29950169, 0.2996653 ,\n",
       "       0.30292302])"
      ]
     },
     "execution_count": 77,
     "metadata": {},
     "output_type": "execute_result"
    }
   ],
   "source": [
    "import pandas as pd\n",
    "Y_train"
   ]
  },
  {
   "cell_type": "code",
   "execution_count": 14,
   "metadata": {},
   "outputs": [
    {
     "name": "stdout",
     "output_type": "stream",
     "text": [
      "[[0.30704354 0.3066865  0.31042024 ... 0.27537376 0.28135366 0.27611753]\n",
      " [0.3066865  0.31042024 0.30769806 ... 0.28135366 0.27611753 0.30744516]\n",
      " [0.31042024 0.30769806 0.31233918 ... 0.27611753 0.30744516 0.30292302]\n",
      " ...\n",
      " [0.70695425 0.72284118 0.69088881 ... 0.81340274 0.77996283 0.74336934]\n",
      " [0.72284118 0.69088881 0.69981407 ... 0.77996283 0.74336934 0.74039425]\n",
      " [0.69088881 0.69981407 0.72545927 ... 0.74336934 0.74039425 0.7436073 ]]\n"
     ]
    }
   ],
   "source": [
    "print(X_test)"
   ]
  },
  {
   "cell_type": "code",
   "execution_count": 15,
   "metadata": {},
   "outputs": [],
   "source": [
    "X_train = X_train.reshape(X_train.shape[0],X_train.shape[1],1)\n",
    "X_test = X_test.reshape(X_test.shape[0],X_test.shape[1],1)"
   ]
  },
  {
   "cell_type": "code",
   "execution_count": 34,
   "metadata": {},
   "outputs": [],
   "source": [
    "### Create LSTM\n",
    "from tensorflow.keras.models import Sequential\n",
    "from tensorflow.keras.layers import Dense\n",
    "from tensorflow.keras.layers import LSTM\n",
    "import tensorflow as tf"
   ]
  },
  {
   "cell_type": "code",
   "execution_count": 35,
   "metadata": {},
   "outputs": [],
   "source": [
    "model = Sequential()\n",
    "model.add(LSTM(50,return_sequences=True,input_shape=(100,1)))\n",
    "model.add(LSTM(50,return_sequences=True))\n",
    "model.add(LSTM(50))\n",
    "model.add(Dense(1))\n",
    "model.compile(loss='mean_squared_error',optimizer='adam',metrics=[tf.keras.metrics.MeanAbsoluteError()])\n"
   ]
  },
  {
   "cell_type": "code",
   "execution_count": 36,
   "metadata": {},
   "outputs": [
    {
     "name": "stdout",
     "output_type": "stream",
     "text": [
      "Model: \"sequential_4\"\n",
      "_________________________________________________________________\n",
      " Layer (type)                Output Shape              Param #   \n",
      "=================================================================\n",
      " lstm_12 (LSTM)              (None, 100, 50)           10400     \n",
      "                                                                 \n",
      " lstm_13 (LSTM)              (None, 100, 50)           20200     \n",
      "                                                                 \n",
      " lstm_14 (LSTM)              (None, 50)                20200     \n",
      "                                                                 \n",
      " dense_4 (Dense)             (None, 1)                 51        \n",
      "                                                                 \n",
      "=================================================================\n",
      "Total params: 50,851\n",
      "Trainable params: 50,851\n",
      "Non-trainable params: 0\n",
      "_________________________________________________________________\n"
     ]
    }
   ],
   "source": [
    "model.summary()"
   ]
  },
  {
   "cell_type": "code",
   "execution_count": 37,
   "metadata": {},
   "outputs": [
    {
     "name": "stdout",
     "output_type": "stream",
     "text": [
      "Epoch 1/100\n",
      "1/1 [==============================] - 5s 5s/step - loss: 0.0216 - mean_absolute_error: 0.1258 - val_loss: 0.5308 - val_mean_absolute_error: 0.7110\n",
      "Epoch 2/100\n",
      "1/1 [==============================] - 1s 973ms/step - loss: 0.0146 - mean_absolute_error: 0.0993 - val_loss: 0.4326 - val_mean_absolute_error: 0.6411\n",
      "Epoch 3/100\n",
      "1/1 [==============================] - 1s 953ms/step - loss: 0.0096 - mean_absolute_error: 0.0780 - val_loss: 0.3424 - val_mean_absolute_error: 0.5693\n",
      "Epoch 4/100\n",
      "1/1 [==============================] - 1s 965ms/step - loss: 0.0059 - mean_absolute_error: 0.0587 - val_loss: 0.2532 - val_mean_absolute_error: 0.4882\n",
      "Epoch 5/100\n",
      "1/1 [==============================] - 1s 950ms/step - loss: 0.0033 - mean_absolute_error: 0.0451 - val_loss: 0.1664 - val_mean_absolute_error: 0.3938\n",
      "Epoch 6/100\n",
      "1/1 [==============================] - 1s 952ms/step - loss: 0.0025 - mean_absolute_error: 0.0431 - val_loss: 0.0972 - val_mean_absolute_error: 0.2983\n",
      "Epoch 7/100\n",
      "1/1 [==============================] - 1s 943ms/step - loss: 0.0037 - mean_absolute_error: 0.0522 - val_loss: 0.0691 - val_mean_absolute_error: 0.2496\n",
      "Epoch 8/100\n",
      "1/1 [==============================] - 1s 937ms/step - loss: 0.0045 - mean_absolute_error: 0.0588 - val_loss: 0.0690 - val_mean_absolute_error: 0.2500\n",
      "Epoch 9/100\n",
      "1/1 [==============================] - 1s 949ms/step - loss: 0.0038 - mean_absolute_error: 0.0536 - val_loss: 0.0836 - val_mean_absolute_error: 0.2769\n",
      "Epoch 10/100\n",
      "1/1 [==============================] - 1s 953ms/step - loss: 0.0026 - mean_absolute_error: 0.0438 - val_loss: 0.1050 - val_mean_absolute_error: 0.3122\n",
      "Epoch 11/100\n",
      "1/1 [==============================] - 1s 947ms/step - loss: 0.0018 - mean_absolute_error: 0.0366 - val_loss: 0.1265 - val_mean_absolute_error: 0.3441\n",
      "Epoch 12/100\n",
      "1/1 [==============================] - 1s 1s/step - loss: 0.0017 - mean_absolute_error: 0.0341 - val_loss: 0.1414 - val_mean_absolute_error: 0.3648\n",
      "Epoch 13/100\n",
      "1/1 [==============================] - 1s 964ms/step - loss: 0.0020 - mean_absolute_error: 0.0345 - val_loss: 0.1453 - val_mean_absolute_error: 0.3703\n",
      "Epoch 14/100\n",
      "1/1 [==============================] - 1s 909ms/step - loss: 0.0023 - mean_absolute_error: 0.0364 - val_loss: 0.1373 - val_mean_absolute_error: 0.3602\n",
      "Epoch 15/100\n",
      "1/1 [==============================] - 1s 953ms/step - loss: 0.0023 - mean_absolute_error: 0.0367 - val_loss: 0.1195 - val_mean_absolute_error: 0.3359\n",
      "Epoch 16/100\n",
      "1/1 [==============================] - 1s 912ms/step - loss: 0.0020 - mean_absolute_error: 0.0343 - val_loss: 0.0954 - val_mean_absolute_error: 0.2997\n",
      "Epoch 17/100\n",
      "1/1 [==============================] - 1s 915ms/step - loss: 0.0015 - mean_absolute_error: 0.0299 - val_loss: 0.0689 - val_mean_absolute_error: 0.2536\n",
      "Epoch 18/100\n",
      "1/1 [==============================] - 1s 943ms/step - loss: 0.0010 - mean_absolute_error: 0.0251 - val_loss: 0.0436 - val_mean_absolute_error: 0.2002\n",
      "Epoch 19/100\n",
      "1/1 [==============================] - 1s 937ms/step - loss: 6.8902e-04 - mean_absolute_error: 0.0219 - val_loss: 0.0232 - val_mean_absolute_error: 0.1432\n",
      "Epoch 20/100\n",
      "1/1 [==============================] - 1s 1s/step - loss: 6.1502e-04 - mean_absolute_error: 0.0215 - val_loss: 0.0100 - val_mean_absolute_error: 0.0886\n",
      "Epoch 21/100\n",
      "1/1 [==============================] - 1s 966ms/step - loss: 7.3594e-04 - mean_absolute_error: 0.0238 - val_loss: 0.0039 - val_mean_absolute_error: 0.0498\n",
      "Epoch 22/100\n",
      "1/1 [==============================] - 1s 920ms/step - loss: 8.3426e-04 - mean_absolute_error: 0.0261 - val_loss: 0.0022 - val_mean_absolute_error: 0.0369\n",
      "Epoch 23/100\n",
      "1/1 [==============================] - 1s 933ms/step - loss: 7.1939e-04 - mean_absolute_error: 0.0244 - val_loss: 0.0020 - val_mean_absolute_error: 0.0354\n",
      "Epoch 24/100\n",
      "1/1 [==============================] - 1s 910ms/step - loss: 4.2625e-04 - mean_absolute_error: 0.0181 - val_loss: 0.0020 - val_mean_absolute_error: 0.0360\n",
      "Epoch 25/100\n",
      "1/1 [==============================] - 1s 910ms/step - loss: 1.6849e-04 - mean_absolute_error: 0.0102 - val_loss: 0.0020 - val_mean_absolute_error: 0.0368\n",
      "Epoch 26/100\n",
      "1/1 [==============================] - 1s 946ms/step - loss: 1.2041e-04 - mean_absolute_error: 0.0082 - val_loss: 0.0021 - val_mean_absolute_error: 0.0375\n",
      "Epoch 27/100\n",
      "1/1 [==============================] - 1s 1s/step - loss: 2.6930e-04 - mean_absolute_error: 0.0144 - val_loss: 0.0021 - val_mean_absolute_error: 0.0378\n",
      "Epoch 28/100\n",
      "1/1 [==============================] - 1s 961ms/step - loss: 4.4414e-04 - mean_absolute_error: 0.0195 - val_loss: 0.0025 - val_mean_absolute_error: 0.0405\n",
      "Epoch 29/100\n",
      "1/1 [==============================] - 1s 942ms/step - loss: 4.8270e-04 - mean_absolute_error: 0.0205 - val_loss: 0.0039 - val_mean_absolute_error: 0.0504\n",
      "Epoch 30/100\n",
      "1/1 [==============================] - 1s 944ms/step - loss: 3.7430e-04 - mean_absolute_error: 0.0177 - val_loss: 0.0068 - val_mean_absolute_error: 0.0685\n",
      "Epoch 31/100\n",
      "1/1 [==============================] - 1s 1s/step - loss: 2.4147e-04 - mean_absolute_error: 0.0132 - val_loss: 0.0106 - val_mean_absolute_error: 0.0894\n",
      "Epoch 32/100\n",
      "1/1 [==============================] - 1s 1s/step - loss: 2.0540e-04 - mean_absolute_error: 0.0106 - val_loss: 0.0133 - val_mean_absolute_error: 0.1023\n",
      "Epoch 33/100\n",
      "1/1 [==============================] - 1s 975ms/step - loss: 2.6484e-04 - mean_absolute_error: 0.0113 - val_loss: 0.0127 - val_mean_absolute_error: 0.1001\n",
      "Epoch 34/100\n",
      "1/1 [==============================] - 1s 976ms/step - loss: 3.1021e-04 - mean_absolute_error: 0.0122 - val_loss: 0.0092 - val_mean_absolute_error: 0.0824\n",
      "Epoch 35/100\n",
      "1/1 [==============================] - 1s 967ms/step - loss: 2.6743e-04 - mean_absolute_error: 0.0113 - val_loss: 0.0049 - val_mean_absolute_error: 0.0571\n",
      "Epoch 36/100\n",
      "1/1 [==============================] - 1s 965ms/step - loss: 1.7474e-04 - mean_absolute_error: 0.0089 - val_loss: 0.0023 - val_mean_absolute_error: 0.0384\n",
      "Epoch 37/100\n",
      "1/1 [==============================] - 1s 954ms/step - loss: 1.1067e-04 - mean_absolute_error: 0.0073 - val_loss: 0.0021 - val_mean_absolute_error: 0.0369\n",
      "Epoch 38/100\n",
      "1/1 [==============================] - 1s 938ms/step - loss: 1.0868e-04 - mean_absolute_error: 0.0077 - val_loss: 0.0034 - val_mean_absolute_error: 0.0474\n",
      "Epoch 39/100\n",
      "1/1 [==============================] - 1s 932ms/step - loss: 1.4708e-04 - mean_absolute_error: 0.0092 - val_loss: 0.0051 - val_mean_absolute_error: 0.0603\n",
      "Epoch 40/100\n",
      "1/1 [==============================] - 1s 962ms/step - loss: 1.8532e-04 - mean_absolute_error: 0.0103 - val_loss: 0.0062 - val_mean_absolute_error: 0.0678\n",
      "Epoch 41/100\n",
      "1/1 [==============================] - 1s 932ms/step - loss: 1.9694e-04 - mean_absolute_error: 0.0106 - val_loss: 0.0064 - val_mean_absolute_error: 0.0688\n",
      "Epoch 42/100\n",
      "1/1 [==============================] - 1s 933ms/step - loss: 1.8060e-04 - mean_absolute_error: 0.0101 - val_loss: 0.0057 - val_mean_absolute_error: 0.0643\n",
      "Epoch 43/100\n",
      "1/1 [==============================] - 1s 967ms/step - loss: 1.5332e-04 - mean_absolute_error: 0.0095 - val_loss: 0.0046 - val_mean_absolute_error: 0.0563\n",
      "Epoch 44/100\n",
      "1/1 [==============================] - 1s 1s/step - loss: 1.3562e-04 - mean_absolute_error: 0.0091 - val_loss: 0.0035 - val_mean_absolute_error: 0.0477\n",
      "Epoch 45/100\n",
      "1/1 [==============================] - 1s 1s/step - loss: 1.3723e-04 - mean_absolute_error: 0.0094 - val_loss: 0.0027 - val_mean_absolute_error: 0.0414\n",
      "Epoch 46/100\n",
      "1/1 [==============================] - 1s 1s/step - loss: 1.5114e-04 - mean_absolute_error: 0.0099 - val_loss: 0.0023 - val_mean_absolute_error: 0.0380\n",
      "Epoch 47/100\n",
      "1/1 [==============================] - 1s 978ms/step - loss: 1.6023e-04 - mean_absolute_error: 0.0102 - val_loss: 0.0021 - val_mean_absolute_error: 0.0365\n",
      "Epoch 48/100\n",
      "1/1 [==============================] - 1s 959ms/step - loss: 1.5234e-04 - mean_absolute_error: 0.0098 - val_loss: 0.0020 - val_mean_absolute_error: 0.0362\n",
      "Epoch 49/100\n",
      "1/1 [==============================] - 1s 978ms/step - loss: 1.3063e-04 - mean_absolute_error: 0.0088 - val_loss: 0.0021 - val_mean_absolute_error: 0.0366\n",
      "Epoch 50/100\n",
      "1/1 [==============================] - 1s 1s/step - loss: 1.0961e-04 - mean_absolute_error: 0.0078 - val_loss: 0.0021 - val_mean_absolute_error: 0.0371\n",
      "Epoch 51/100\n",
      "1/1 [==============================] - 1s 1s/step - loss: 1.0161e-04 - mean_absolute_error: 0.0075 - val_loss: 0.0021 - val_mean_absolute_error: 0.0373\n",
      "Epoch 52/100\n",
      "1/1 [==============================] - 1s 1s/step - loss: 1.0719e-04 - mean_absolute_error: 0.0077 - val_loss: 0.0021 - val_mean_absolute_error: 0.0368\n",
      "Epoch 53/100\n",
      "1/1 [==============================] - 1s 964ms/step - loss: 1.1677e-04 - mean_absolute_error: 0.0082 - val_loss: 0.0019 - val_mean_absolute_error: 0.0358\n",
      "Epoch 54/100\n",
      "1/1 [==============================] - 1s 944ms/step - loss: 1.2016e-04 - mean_absolute_error: 0.0085 - val_loss: 0.0019 - val_mean_absolute_error: 0.0351\n",
      "Epoch 55/100\n",
      "1/1 [==============================] - 1s 961ms/step - loss: 1.1489e-04 - mean_absolute_error: 0.0083 - val_loss: 0.0020 - val_mean_absolute_error: 0.0356\n",
      "Epoch 56/100\n",
      "1/1 [==============================] - 1s 943ms/step - loss: 1.0704e-04 - mean_absolute_error: 0.0078 - val_loss: 0.0022 - val_mean_absolute_error: 0.0375\n",
      "Epoch 57/100\n",
      "1/1 [==============================] - 1s 940ms/step - loss: 1.0447e-04 - mean_absolute_error: 0.0073 - val_loss: 0.0026 - val_mean_absolute_error: 0.0402\n",
      "Epoch 58/100\n",
      "1/1 [==============================] - 1s 945ms/step - loss: 1.0894e-04 - mean_absolute_error: 0.0072 - val_loss: 0.0028 - val_mean_absolute_error: 0.0418\n",
      "Epoch 59/100\n",
      "1/1 [==============================] - 1s 942ms/step - loss: 1.1469e-04 - mean_absolute_error: 0.0072 - val_loss: 0.0027 - val_mean_absolute_error: 0.0412\n",
      "Epoch 60/100\n",
      "1/1 [==============================] - 1s 980ms/step - loss: 1.1485e-04 - mean_absolute_error: 0.0072 - val_loss: 0.0024 - val_mean_absolute_error: 0.0389\n",
      "Epoch 61/100\n",
      "1/1 [==============================] - 1s 982ms/step - loss: 1.0870e-04 - mean_absolute_error: 0.0071 - val_loss: 0.0021 - val_mean_absolute_error: 0.0363\n",
      "Epoch 62/100\n",
      "1/1 [==============================] - 1s 995ms/step - loss: 1.0154e-04 - mean_absolute_error: 0.0070 - val_loss: 0.0019 - val_mean_absolute_error: 0.0348\n",
      "Epoch 63/100\n",
      "1/1 [==============================] - 1s 959ms/step - loss: 9.8532e-05 - mean_absolute_error: 0.0071 - val_loss: 0.0019 - val_mean_absolute_error: 0.0348\n",
      "Epoch 64/100\n",
      "1/1 [==============================] - 1s 933ms/step - loss: 9.9992e-05 - mean_absolute_error: 0.0073 - val_loss: 0.0019 - val_mean_absolute_error: 0.0356\n",
      "Epoch 65/100\n",
      "1/1 [==============================] - 1s 929ms/step - loss: 1.0240e-04 - mean_absolute_error: 0.0075 - val_loss: 0.0020 - val_mean_absolute_error: 0.0365\n",
      "Epoch 66/100\n",
      "1/1 [==============================] - 1s 954ms/step - loss: 1.0254e-04 - mean_absolute_error: 0.0075 - val_loss: 0.0021 - val_mean_absolute_error: 0.0368\n",
      "Epoch 67/100\n",
      "1/1 [==============================] - 1s 940ms/step - loss: 1.0028e-04 - mean_absolute_error: 0.0074 - val_loss: 0.0021 - val_mean_absolute_error: 0.0365\n",
      "Epoch 68/100\n",
      "1/1 [==============================] - 1s 975ms/step - loss: 9.7993e-05 - mean_absolute_error: 0.0073 - val_loss: 0.0020 - val_mean_absolute_error: 0.0360\n",
      "Epoch 69/100\n",
      "1/1 [==============================] - 1s 942ms/step - loss: 9.7792e-05 - mean_absolute_error: 0.0073 - val_loss: 0.0020 - val_mean_absolute_error: 0.0355\n",
      "Epoch 70/100\n",
      "1/1 [==============================] - 1s 940ms/step - loss: 9.9518e-05 - mean_absolute_error: 0.0073 - val_loss: 0.0019 - val_mean_absolute_error: 0.0352\n",
      "Epoch 71/100\n",
      "1/1 [==============================] - 1s 937ms/step - loss: 1.0112e-04 - mean_absolute_error: 0.0074 - val_loss: 0.0019 - val_mean_absolute_error: 0.0352\n",
      "Epoch 72/100\n",
      "1/1 [==============================] - 1s 955ms/step - loss: 1.0086e-04 - mean_absolute_error: 0.0073 - val_loss: 0.0019 - val_mean_absolute_error: 0.0353\n",
      "Epoch 73/100\n",
      "1/1 [==============================] - 1s 955ms/step - loss: 9.8927e-05 - mean_absolute_error: 0.0073 - val_loss: 0.0020 - val_mean_absolute_error: 0.0357\n",
      "Epoch 74/100\n",
      "1/1 [==============================] - 1s 946ms/step - loss: 9.6970e-05 - mean_absolute_error: 0.0072 - val_loss: 0.0020 - val_mean_absolute_error: 0.0360\n",
      "Epoch 75/100\n",
      "1/1 [==============================] - 1s 956ms/step - loss: 9.6300e-05 - mean_absolute_error: 0.0072 - val_loss: 0.0020 - val_mean_absolute_error: 0.0361\n",
      "Epoch 76/100\n",
      "1/1 [==============================] - 1s 1s/step - loss: 9.6727e-05 - mean_absolute_error: 0.0072 - val_loss: 0.0020 - val_mean_absolute_error: 0.0358\n",
      "Epoch 77/100\n",
      "1/1 [==============================] - 1s 1s/step - loss: 9.7082e-05 - mean_absolute_error: 0.0072 - val_loss: 0.0019 - val_mean_absolute_error: 0.0353\n",
      "Epoch 78/100\n",
      "1/1 [==============================] - 1s 938ms/step - loss: 9.6567e-05 - mean_absolute_error: 0.0072 - val_loss: 0.0019 - val_mean_absolute_error: 0.0347\n",
      "Epoch 79/100\n",
      "1/1 [==============================] - 1s 944ms/step - loss: 9.5510e-05 - mean_absolute_error: 0.0071 - val_loss: 0.0018 - val_mean_absolute_error: 0.0343\n",
      "Epoch 80/100\n",
      "1/1 [==============================] - 1s 956ms/step - loss: 9.4856e-05 - mean_absolute_error: 0.0070 - val_loss: 0.0018 - val_mean_absolute_error: 0.0341\n",
      "Epoch 81/100\n",
      "1/1 [==============================] - 1s 953ms/step - loss: 9.5080e-05 - mean_absolute_error: 0.0069 - val_loss: 0.0018 - val_mean_absolute_error: 0.0341\n",
      "Epoch 82/100\n",
      "1/1 [==============================] - 1s 962ms/step - loss: 9.5713e-05 - mean_absolute_error: 0.0069 - val_loss: 0.0018 - val_mean_absolute_error: 0.0341\n",
      "Epoch 83/100\n",
      "1/1 [==============================] - 1s 1s/step - loss: 9.5923e-05 - mean_absolute_error: 0.0069 - val_loss: 0.0018 - val_mean_absolute_error: 0.0341\n",
      "Epoch 84/100\n",
      "1/1 [==============================] - 1s 1s/step - loss: 9.5433e-05 - mean_absolute_error: 0.0069 - val_loss: 0.0018 - val_mean_absolute_error: 0.0340\n",
      "Epoch 85/100\n",
      "1/1 [==============================] - 1s 949ms/step - loss: 9.4711e-05 - mean_absolute_error: 0.0069 - val_loss: 0.0018 - val_mean_absolute_error: 0.0341\n",
      "Epoch 86/100\n",
      "1/1 [==============================] - 1s 973ms/step - loss: 9.4332e-05 - mean_absolute_error: 0.0070 - val_loss: 0.0018 - val_mean_absolute_error: 0.0342\n",
      "Epoch 87/100\n",
      "1/1 [==============================] - 1s 949ms/step - loss: 9.4360e-05 - mean_absolute_error: 0.0070 - val_loss: 0.0018 - val_mean_absolute_error: 0.0344\n",
      "Epoch 88/100\n",
      "1/1 [==============================] - 1s 1s/step - loss: 9.4397e-05 - mean_absolute_error: 0.0070 - val_loss: 0.0018 - val_mean_absolute_error: 0.0345\n",
      "Epoch 89/100\n",
      "1/1 [==============================] - 1s 985ms/step - loss: 9.4119e-05 - mean_absolute_error: 0.0070 - val_loss: 0.0018 - val_mean_absolute_error: 0.0345\n",
      "Epoch 90/100\n",
      "1/1 [==============================] - 1s 948ms/step - loss: 9.3633e-05 - mean_absolute_error: 0.0070 - val_loss: 0.0018 - val_mean_absolute_error: 0.0345\n",
      "Epoch 91/100\n",
      "1/1 [==============================] - 1s 956ms/step - loss: 9.3289e-05 - mean_absolute_error: 0.0070 - val_loss: 0.0018 - val_mean_absolute_error: 0.0344\n",
      "Epoch 92/100\n",
      "1/1 [==============================] - 1s 956ms/step - loss: 9.3264e-05 - mean_absolute_error: 0.0070 - val_loss: 0.0018 - val_mean_absolute_error: 0.0344\n",
      "Epoch 93/100\n",
      "1/1 [==============================] - 1s 961ms/step - loss: 9.3383e-05 - mean_absolute_error: 0.0070 - val_loss: 0.0018 - val_mean_absolute_error: 0.0344\n",
      "Epoch 94/100\n",
      "1/1 [==============================] - 1s 995ms/step - loss: 9.3363e-05 - mean_absolute_error: 0.0070 - val_loss: 0.0018 - val_mean_absolute_error: 0.0345\n",
      "Epoch 95/100\n",
      "1/1 [==============================] - 1s 938ms/step - loss: 9.3123e-05 - mean_absolute_error: 0.0070 - val_loss: 0.0019 - val_mean_absolute_error: 0.0347\n",
      "Epoch 96/100\n",
      "1/1 [==============================] - 1s 949ms/step - loss: 9.2830e-05 - mean_absolute_error: 0.0070 - val_loss: 0.0019 - val_mean_absolute_error: 0.0349\n",
      "Epoch 97/100\n",
      "1/1 [==============================] - 1s 968ms/step - loss: 9.2663e-05 - mean_absolute_error: 0.0070 - val_loss: 0.0019 - val_mean_absolute_error: 0.0350\n",
      "Epoch 98/100\n",
      "1/1 [==============================] - 1s 965ms/step - loss: 9.2610e-05 - mean_absolute_error: 0.0070 - val_loss: 0.0019 - val_mean_absolute_error: 0.0349\n",
      "Epoch 99/100\n",
      "1/1 [==============================] - 1s 962ms/step - loss: 9.2523e-05 - mean_absolute_error: 0.0070 - val_loss: 0.0019 - val_mean_absolute_error: 0.0348\n",
      "Epoch 100/100\n",
      "1/1 [==============================] - 1s 991ms/step - loss: 9.2311e-05 - mean_absolute_error: 0.0070 - val_loss: 0.0018 - val_mean_absolute_error: 0.0345\n"
     ]
    }
   ],
   "source": [
    "history = model.fit(X_train,Y_train,validation_data=(X_test,Y_test),epochs=100,batch_size=len(X_train),verbose=1)"
   ]
  },
  {
   "cell_type": "code",
   "execution_count": 38,
   "metadata": {},
   "outputs": [
    {
     "name": "stdout",
     "output_type": "stream",
     "text": [
      "52/52 [==============================] - 2s 27ms/step\n",
      "21/21 [==============================] - 1s 28ms/step\n"
     ]
    }
   ],
   "source": [
    "train_predict = model.predict(X_train)\n",
    "test_predict = model.predict(X_test)"
   ]
  },
  {
   "cell_type": "code",
   "execution_count": 39,
   "metadata": {},
   "outputs": [],
   "source": [
    "test_predict=scaler.inverse_transform(test_predict)\n",
    "train_predict=scaler.inverse_transform(train_predict)"
   ]
  },
  {
   "cell_type": "code",
   "execution_count": 92,
   "metadata": {},
   "outputs": [
    {
     "data": {
      "text/plain": [
       "34.94567614929687"
      ]
     },
     "execution_count": 92,
     "metadata": {},
     "output_type": "execute_result"
    }
   ],
   "source": [
    "import math\n",
    "from sklearn.metrics import mean_squared_error,mean_absolute_error\n"
   ]
  },
  {
   "cell_type": "code",
   "execution_count": 95,
   "metadata": {},
   "outputs": [
    {
     "data": {
      "text/plain": [
       "1221.2002815315361"
      ]
     },
     "execution_count": 95,
     "metadata": {},
     "output_type": "execute_result"
    }
   ],
   "source": [
    "mean_squared_error(Y_train,train_predict)  #MSE"
   ]
  },
  {
   "cell_type": "code",
   "execution_count": 97,
   "metadata": {},
   "outputs": [
    {
     "data": {
      "text/plain": [
       "18318.572764136592"
      ]
     },
     "execution_count": 97,
     "metadata": {},
     "output_type": "execute_result"
    }
   ],
   "source": [
    "mean_squared_error(Y_test,test_predict)"
   ]
  },
  {
   "cell_type": "code",
   "execution_count": 98,
   "metadata": {},
   "outputs": [
    {
     "data": {
      "text/plain": [
       "34.94567614929687"
      ]
     },
     "execution_count": 98,
     "metadata": {},
     "output_type": "execute_result"
    }
   ],
   "source": [
    "math.sqrt(mean_squared_error(Y_train,train_predict))  #RSME"
   ]
  },
  {
   "cell_type": "code",
   "execution_count": 87,
   "metadata": {},
   "outputs": [
    {
     "data": {
      "text/plain": [
       "135.34612208754484"
      ]
     },
     "execution_count": 87,
     "metadata": {},
     "output_type": "execute_result"
    }
   ],
   "source": [
    "math.sqrt(mean_squared_error(Y_test,test_predict)) #RMSE"
   ]
  },
  {
   "cell_type": "code",
   "execution_count": 93,
   "metadata": {},
   "outputs": [
    {
     "data": {
      "text/plain": [
       "33.037374537111944"
      ]
     },
     "execution_count": 93,
     "metadata": {},
     "output_type": "execute_result"
    }
   ],
   "source": [
    "mean_absolute_error(Y_train,train_predict) #MAE Train"
   ]
  },
  {
   "cell_type": "code",
   "execution_count": 94,
   "metadata": {},
   "outputs": [
    {
     "data": {
      "text/plain": [
       "132.8368924408491"
      ]
     },
     "execution_count": 94,
     "metadata": {},
     "output_type": "execute_result"
    }
   ],
   "source": [
    "mean_absolute_error(Y_test,test_predict)"
   ]
  },
  {
   "cell_type": "code",
   "execution_count": 101,
   "metadata": {},
   "outputs": [
    {
     "data": {
      "image/png": "[encoded data removed]",
      "text/plain": [
       "<Figure size 700x400 with 1 Axes>"
      ]
     },
     "metadata": {},
     "output_type": "display_data"
    }
   ],
   "source": [
    "#plotting\n",
    "lookback=100\n",
    "#shift train prediction for plotting\n",
    "trainPredictPlot = np.empty_like(df1)\n",
    "trainPredictPlot[:,:] = np.nan\n",
    "trainPredictPlot[lookback:len(train_predict)+lookback,:] = train_predict\n",
    "#shift test prediction for plotting\n",
    "testPredictPlot = np.empty_like(df1)\n",
    "testPredictPlot[:,:] = np.nan\n",
    "testPredictPlot[len(train_predict)+lookback*2+1:-1,:] = test_predict\n",
    "plt.figure(figsize=(7,4))\n",
    "plt.plot(scaler.inverse_transform(df1))\n",
    "plt.plot(trainPredictPlot)\n",
    "plt.plot(testPredictPlot)\n",
    "plt.xlabel('day')\n",
    "plt.ylabel('stock price')\n",
    "plt.legend([\"Original Data\",\"Predicted Test Data\", \"Predicted Test Data\"])\n",
    "plt.show()"
   ]
  },
  {
   "cell_type": "code",
   "execution_count": 100,
   "metadata": {},
   "outputs": [
    {
     "data": {
      "image/png": "[encoded data removed]",
      "text/plain": [
       "<Figure size 700x400 with 1 Axes>"
      ]
     },
     "metadata": {},
     "output_type": "display_data"
    }
   ],
   "source": [
    "plt.figure(figsize=(7,4))\n",
    "plt.plot(history.history['loss'])\n",
    "plt.plot(history.history['val_loss'])\n",
    "plt.legend(['training loss','validation loss',])\n",
    "plt.xlabel('epoch')\n",
    "plt.ylabel('loss')\n",
    "plt.show()"
   ]
  },
  {
   "cell_type": "code",
   "execution_count": 99,
   "metadata": {},
   "outputs": [
    {
     "data": {
      "image/png": "[encoded data removed]",
      "text/plain": [
       "<Figure size 700x400 with 1 Axes>"
      ]
     },
     "metadata": {},
     "output_type": "display_data"
    }
   ],
   "source": [
    "plt.figure(figsize=(7,4))\n",
    "plt.plot(history.history['mean_absolute_error'])\n",
    "plt.plot(history.history['val_mean_absolute_error'])\n",
    "plt.legend(['training mean_absolute_error','validation mean_absolute_error',])\n",
    "plt.xlabel('epoch')\n",
    "plt.ylabel('loss')\n",
    "plt.show()"
   ]
  }
 ],
 "metadata": {
  "kernelspec": {
   "display_name": "Python 3 (ipykernel)",
   "language": "python",
   "name": "python3"
  },
  "language_info": {
   "codemirror_mode": {
    "name": "ipython",
    "version": 3
   },
   "file_extension": ".py",
   "mimetype": "text/x-python",
   "name": "python",
   "nbconvert_exporter": "python",
   "pygments_lexer": "ipython3",
   "version": "3.9.13"
  },
  "vscode": {
   "interpreter": {
    "hash": "75a68451a77f0883bc8449827c9a3773a12582a9ff6f66fb0118d214436ae40d"
   }
  }
 },
 "nbformat": 4,
 "nbformat_minor": 2
}
